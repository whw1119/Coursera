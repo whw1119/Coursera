{
 "cells": [
  {
   "cell_type": "markdown",
   "id": "1718095f",
   "metadata": {},
   "source": [
    "# My Jupyter Notebook on IBM Watson Studio"
   ]
  },
  {
   "cell_type": "markdown",
   "id": "d24e7790",
   "metadata": {},
   "source": [
    "__Haowei Wang__\n",
    "\n",
    "Data scientist"
   ]
  },
  {
   "cell_type": "markdown",
   "id": "a3ec17d9",
   "metadata": {},
   "source": [
    "_I am interested in data Science because I want to help people by using data to gain better insights into potential problems and then make better decisions._"
   ]
  },
  {
   "cell_type": "markdown",
   "id": "225f4534",
   "metadata": {},
   "source": [
    "### Print out \"hello world\""
   ]
  },
  {
   "cell_type": "code",
   "execution_count": 1,
   "id": "3133962c",
   "metadata": {},
   "outputs": [
    {
     "name": "stdout",
     "output_type": "stream",
     "text": [
      "hello world\n"
     ]
    }
   ],
   "source": [
    "print(\"hello world\")"
   ]
  },
  {
   "cell_type": "markdown",
   "id": "0e6da3bd",
   "metadata": {},
   "source": [
    "___\n",
    "1. This ist a numbered list\n",
    "\n",
    "    1.1 This ist a numbered list\n",
    "    \n",
    "Column1 | Column2 | Column3\n",
    "--- | --- | ---\n",
    "*Still* | `renders` | **nicely**\n",
    "1 | 2 | 3\n",
    "\n",
    "[This ist a hyper link.](https://www.coursera.org/)"
   ]
  }
 ],
 "metadata": {
  "kernelspec": {
   "display_name": "Python 3 (ipykernel)",
   "language": "python",
   "name": "python3"
  },
  "language_info": {
   "codemirror_mode": {
    "name": "ipython",
    "version": 3
   },
   "file_extension": ".py",
   "mimetype": "text/x-python",
   "name": "python",
   "nbconvert_exporter": "python",
   "pygments_lexer": "ipython3",
   "version": "3.9.6"
  }
 },
 "nbformat": 4,
 "nbformat_minor": 5
}
